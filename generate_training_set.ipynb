{
 "cells": [
  {
   "cell_type": "code",
   "execution_count": 10,
   "metadata": {},
   "outputs": [],
   "source": [
    "\n",
    "import os\n",
    "import chess.pgn\n",
    "import numpy as np\n",
    "from state import State"
   ]
  },
  {
   "cell_type": "code",
   "execution_count": 11,
   "metadata": {},
   "outputs": [
    {
     "name": "stdout",
     "output_type": "stream",
     "text": [
      "parsing game no:  1\n",
      "parsing game no:  2\n",
      "parsing game no:  3\n",
      "parsing game no:  4\n",
      "parsing game no:  5\n",
      "parsing game no:  6\n",
      "parsing game no:  7\n",
      "parsing game no:  8\n",
      "parsing game no:  9\n",
      "parsing game no:  10\n",
      "parsing game no:  11\n",
      "parsing game no:  12\n",
      "parsing game no:  13\n",
      "parsing game no:  14\n",
      "parsing game no:  15\n",
      "parsing game no:  16\n",
      "parsing game no:  17\n",
      "parsing game no:  18\n",
      "parsing game no:  19\n",
      "parsing game no:  20\n",
      "parsing game no:  21\n",
      "parsing game no:  22\n",
      "parsing game no:  23\n",
      "parsing game no:  24\n",
      "parsing game no:  25\n",
      "parsing game no:  26\n",
      "parsing game no:  27\n",
      "parsing game no:  28\n",
      "parsing game no:  29\n",
      "parsing game no:  30\n",
      "parsing game no:  31\n",
      "parsing game no:  32\n",
      "parsing game no:  33\n",
      "parsing game no:  34\n",
      "parsing game no:  35\n",
      "parsing game no:  36\n",
      "parsing game no:  37\n",
      "parsing game no:  38\n",
      "parsing game no:  39\n",
      "parsing game no:  40\n",
      "parsing game no:  41\n",
      "parsing game no:  42\n",
      "parsing game no:  43\n",
      "parsing game no:  44\n",
      "parsing game no:  45\n",
      "parsing game no:  46\n",
      "parsing game no:  47\n",
      "parsing game no:  48\n",
      "parsing game no:  49\n",
      "parsing game no:  50\n",
      "parsing game no:  51\n",
      "parsing game no:  52\n",
      "parsing game no:  53\n",
      "parsing game no:  54\n",
      "parsing game no:  55\n",
      "parsing game no:  56\n",
      "parsing game no:  57\n",
      "parsing game no:  58\n",
      "parsing game no:  59\n"
     ]
    },
    {
     "ename": "KeyboardInterrupt",
     "evalue": "",
     "output_type": "error",
     "traceback": [
      "\u001b[1;31m---------------------------------------------------------------------------\u001b[0m",
      "\u001b[1;31mKeyboardInterrupt\u001b[0m                         Traceback (most recent call last)",
      "\u001b[1;32m<ipython-input-11-c6db9852ffb8>\u001b[0m in \u001b[0;36m<module>\u001b[1;34m()\u001b[0m\n\u001b[0;32m     18\u001b[0m \u001b[1;33m\u001b[0m\u001b[0m\n\u001b[0;32m     19\u001b[0m             \u001b[0mboard\u001b[0m\u001b[1;33m.\u001b[0m\u001b[0mpush\u001b[0m\u001b[1;33m(\u001b[0m\u001b[0mmove\u001b[0m\u001b[1;33m)\u001b[0m\u001b[1;33m\u001b[0m\u001b[0m\n\u001b[1;32m---> 20\u001b[1;33m             \u001b[0mser\u001b[0m\u001b[1;33m=\u001b[0m\u001b[0mState\u001b[0m\u001b[1;33m(\u001b[0m\u001b[0mboard\u001b[0m\u001b[1;33m)\u001b[0m\u001b[1;33m.\u001b[0m\u001b[0mserialize\u001b[0m\u001b[1;33m(\u001b[0m\u001b[1;33m)\u001b[0m\u001b[1;33m\u001b[0m\u001b[0m\n\u001b[0m\u001b[0;32m     21\u001b[0m             \u001b[0mX\u001b[0m\u001b[1;33m.\u001b[0m\u001b[0mappend\u001b[0m\u001b[1;33m(\u001b[0m\u001b[0mser\u001b[0m\u001b[1;33m)\u001b[0m\u001b[1;33m\u001b[0m\u001b[0m\n\u001b[0;32m     22\u001b[0m             \u001b[0mY\u001b[0m\u001b[1;33m.\u001b[0m\u001b[0mappend\u001b[0m\u001b[1;33m(\u001b[0m\u001b[0mvalue\u001b[0m\u001b[1;33m)\u001b[0m\u001b[1;33m\u001b[0m\u001b[0m\n",
      "\u001b[1;32mD:\\chess\\state.py\u001b[0m in \u001b[0;36mserialize\u001b[1;34m(self)\u001b[0m\n\u001b[0;32m     40\u001b[0m \u001b[1;33m\u001b[0m\u001b[0m\n\u001b[0;32m     41\u001b[0m         \u001b[1;31m#0-3 cols for binary\u001b[0m\u001b[1;33m\u001b[0m\u001b[1;33m\u001b[0m\u001b[0m\n\u001b[1;32m---> 42\u001b[1;33m         \u001b[0mstate\u001b[0m\u001b[1;33m[\u001b[0m\u001b[1;33m:\u001b[0m\u001b[1;33m,\u001b[0m\u001b[1;33m:\u001b[0m\u001b[1;33m,\u001b[0m\u001b[1;36m0\u001b[0m\u001b[1;33m]\u001b[0m\u001b[1;33m=\u001b[0m\u001b[1;33m(\u001b[0m\u001b[0mbstate\u001b[0m\u001b[1;33m>>\u001b[0m\u001b[1;36m3\u001b[0m\u001b[1;33m)\u001b[0m\u001b[1;33m&\u001b[0m\u001b[1;36m1\u001b[0m\u001b[1;33m\u001b[0m\u001b[0m\n\u001b[0m\u001b[0;32m     43\u001b[0m         \u001b[0mstate\u001b[0m\u001b[1;33m[\u001b[0m\u001b[1;33m:\u001b[0m\u001b[1;33m,\u001b[0m\u001b[1;33m:\u001b[0m\u001b[1;33m,\u001b[0m\u001b[1;36m1\u001b[0m\u001b[1;33m]\u001b[0m\u001b[1;33m=\u001b[0m\u001b[1;33m(\u001b[0m\u001b[0mbstate\u001b[0m\u001b[1;33m>>\u001b[0m\u001b[1;36m2\u001b[0m\u001b[1;33m)\u001b[0m\u001b[1;33m&\u001b[0m\u001b[1;36m1\u001b[0m\u001b[1;33m\u001b[0m\u001b[0m\n\u001b[0;32m     44\u001b[0m         \u001b[0mstate\u001b[0m\u001b[1;33m[\u001b[0m\u001b[1;33m:\u001b[0m\u001b[1;33m,\u001b[0m\u001b[1;33m:\u001b[0m\u001b[1;33m,\u001b[0m\u001b[1;36m2\u001b[0m\u001b[1;33m]\u001b[0m\u001b[1;33m=\u001b[0m\u001b[1;33m(\u001b[0m\u001b[0mbstate\u001b[0m\u001b[1;33m>>\u001b[0m\u001b[1;36m1\u001b[0m\u001b[1;33m)\u001b[0m\u001b[1;33m&\u001b[0m\u001b[1;36m1\u001b[0m\u001b[1;33m\u001b[0m\u001b[0m\n",
      "\u001b[1;31mKeyboardInterrupt\u001b[0m: "
     ]
    }
   ],
   "source": [
    "def get_dataset():\n",
    "    gn=0\n",
    "    X=[]\n",
    "    Y=[]\n",
    "    for fn in os.listdir('data'):\n",
    "        pgn=open(os.path.join('data',fn))\n",
    "\n",
    "        while 1:\n",
    "\n",
    "            try:\n",
    "                game=chess.pgn.read_game(pgn)\n",
    "            except Exception:\n",
    "                break\n",
    "            gn+=1\n",
    "            print('parsing game no : ',gn,' got examples', len(X))\n",
    "            value={'1/2-1/2':0,'1-0':1,'0-1':-1}[game.headers['Result']]\n",
    "            board=game.board()\n",
    "            for i, move in enumerate(game.mainline_moves()):\n",
    "\n",
    "                board.push(move)\n",
    "                ser=State(board).serialize()\n",
    "                X.append(ser)\n",
    "                Y.append(value)"
   ]
  },
  {
   "cell_type": "code",
   "execution_count": null,
   "metadata": {},
   "outputs": [],
   "source": []
  },
  {
   "cell_type": "code",
   "execution_count": null,
   "metadata": {},
   "outputs": [],
   "source": []
  }
 ],
 "metadata": {
  "kernelspec": {
   "display_name": "Python [conda env:pocnew]",
   "language": "python",
   "name": "conda-env-pocnew-py"
  },
  "language_info": {
   "codemirror_mode": {
    "name": "ipython",
    "version": 3
   },
   "file_extension": ".py",
   "mimetype": "text/x-python",
   "name": "python",
   "nbconvert_exporter": "python",
   "pygments_lexer": "ipython3",
   "version": "3.6.6"
  },
  "widgets": {
   "state": {},
   "version": "1.1.2"
  }
 },
 "nbformat": 4,
 "nbformat_minor": 2
}
